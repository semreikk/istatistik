{
  "nbformat": 4,
  "nbformat_minor": 0,
  "metadata": {
    "kernelspec": {
      "display_name": "Python 3",
      "language": "python",
      "name": "python3"
    },
    "language_info": {
      "codemirror_mode": {
        "name": "ipython",
        "version": 3
      },
      "file_extension": ".py",
      "mimetype": "text/x-python",
      "name": "python",
      "nbconvert_exporter": "python",
      "pygments_lexer": "ipython3",
      "version": "3.7.6"
    },
    "colab": {
      "name": "Veri_istatistik.ipynb",
      "provenance": [],
      "collapsed_sections": []
    }
  },
  "cells": [
    {
      "cell_type": "markdown",
      "metadata": {
        "id": "QylCelFC5FTo",
        "colab_type": "text"
      },
      "source": [
        "# Veri Bilimi İçin İstatistik"
      ]
    },
    {
      "cell_type": "markdown",
      "metadata": {
        "id": "FHvKhjR45FTq",
        "colab_type": "text"
      },
      "source": [
        "## Örnek Teorisi"
      ]
    },
    {
      "cell_type": "code",
      "metadata": {
        "id": "KwszHr5E5FTr",
        "colab_type": "code",
        "colab": {}
      },
      "source": [
        "# Bir ilçedeki 10 000 kişinin yaşına yönelik bir çıkarım yapmak istiyoruz.\n",
        "# Bunun için 10 000 kişinin yaş ortalamasına ihtiyacımız var.\n",
        "# Tüm popülasyonu inceleyemeyeceğimiz için 100 kişilik bir örneklem seçmemiz gerekecek.\n",
        "# Peki bunu nasıl yapacağız?"
      ],
      "execution_count": 0,
      "outputs": []
    },
    {
      "cell_type": "code",
      "metadata": {
        "id": "Vlbh9PxY5FTz",
        "colab_type": "code",
        "colab": {}
      },
      "source": [
        "import numpy as np"
      ],
      "execution_count": 0,
      "outputs": []
    },
    {
      "cell_type": "code",
      "metadata": {
        "id": "GUC3Tkpx5FT5",
        "colab_type": "code",
        "colab": {}
      },
      "source": [
        "populasyon = np.random.randint(0,80,10000) #0 ile 80 yaş arası 10000 tane rastgele tamsayıdan oluşan bir dizi oluşturdum.\n",
        "# sanal bir veri."
      ],
      "execution_count": 0,
      "outputs": []
    },
    {
      "cell_type": "code",
      "metadata": {
        "id": "WpytIxMp5FUC",
        "colab_type": "code",
        "colab": {
          "base_uri": "https://localhost:8080/",
          "height": 34
        },
        "outputId": "2dcc8f7e-5bdb-44ea-86e9-d1c338318fe5"
      },
      "source": [
        "populasyon[0:10]"
      ],
      "execution_count": 52,
      "outputs": [
        {
          "output_type": "execute_result",
          "data": {
            "text/plain": [
              "array([58, 36, 63, 48,  2, 76, 61,  3, 21, 32])"
            ]
          },
          "metadata": {
            "tags": []
          },
          "execution_count": 52
        }
      ]
    },
    {
      "cell_type": "code",
      "metadata": {
        "id": "xtQXZlKI5FUK",
        "colab_type": "code",
        "colab": {
          "base_uri": "https://localhost:8080/",
          "height": 119
        },
        "outputId": "13fdae5c-88e8-4fb4-90c1-f0be6c7685fc"
      },
      "source": [
        "#orneklem çekimi\n",
        "\n",
        "np.random.seed(115) #burada aynı işlemi her tekrarladığımda aynı sonucu vermesini sağlıyoruz.\n",
        "orneklem = np.random.choice(a=populasyon, size =100) # populasyon ana kitlesinden 100 kişilik rastgele seçim yaptım.\n",
        "orneklem"
      ],
      "execution_count": 53,
      "outputs": [
        {
          "output_type": "execute_result",
          "data": {
            "text/plain": [
              "array([14, 74, 60, 55, 32, 20, 75, 69, 34,  4, 33, 24, 48, 57, 24, 11, 15,\n",
              "       50, 15, 53, 63, 63, 15,  3, 14, 14, 14,  2, 66, 46, 28, 50, 35, 41,\n",
              "       20, 34, 71, 38, 77, 25, 79, 30, 45,  4, 76, 57, 20, 45, 48, 50, 26,\n",
              "       42, 48, 14, 25, 20, 22, 23, 65, 46, 54, 50, 69, 65,  1, 62, 64, 74,\n",
              "       76, 55, 49, 60, 36, 38, 44, 18, 43, 53, 76, 56,  6, 51, 21, 79, 65,\n",
              "        5, 15, 76,  9, 63, 17, 10, 49, 26, 31, 47, 55, 62, 60, 69])"
            ]
          },
          "metadata": {
            "tags": []
          },
          "execution_count": 53
        }
      ]
    },
    {
      "cell_type": "code",
      "metadata": {
        "id": "FwZhp-qD5FUR",
        "colab_type": "code",
        "colab": {
          "base_uri": "https://localhost:8080/",
          "height": 34
        },
        "outputId": "574d71d7-c3d7-43f7-b262-7df0f3b91fd5"
      },
      "source": [
        "orneklem.mean()"
      ],
      "execution_count": 54,
      "outputs": [
        {
          "output_type": "execute_result",
          "data": {
            "text/plain": [
              "41.3"
            ]
          },
          "metadata": {
            "tags": []
          },
          "execution_count": 54
        }
      ]
    },
    {
      "cell_type": "code",
      "metadata": {
        "id": "wzeukwZZ5FUX",
        "colab_type": "code",
        "colab": {
          "base_uri": "https://localhost:8080/",
          "height": 34
        },
        "outputId": "e51e02f8-4385-49b9-92b0-27d3e19dbf4e"
      },
      "source": [
        "populasyon.mean()"
      ],
      "execution_count": 55,
      "outputs": [
        {
          "output_type": "execute_result",
          "data": {
            "text/plain": [
              "39.2571"
            ]
          },
          "metadata": {
            "tags": []
          },
          "execution_count": 55
        }
      ]
    },
    {
      "cell_type": "code",
      "metadata": {
        "id": "NwV4eDam9xYR",
        "colab_type": "code",
        "colab": {}
      },
      "source": [
        "np.random.seed(10)\n",
        "orneklem1 = np.random.choice(a=populasyon, size =100)\n",
        "orneklem2 = np.random.choice(a=populasyon, size =100)\n",
        "orneklem3 = np.random.choice(a=populasyon, size =100)\n",
        "orneklem4 = np.random.choice(a=populasyon, size =100)\n",
        "orneklem5 = np.random.choice(a=populasyon, size =100)\n",
        "orneklem6 = np.random.choice(a=populasyon, size =100)\n",
        "orneklem7 = np.random.choice(a=populasyon, size =100)\n",
        "orneklem8 = np.random.choice(a=populasyon, size =100)\n",
        "orneklem9 = np.random.choice(a=populasyon, size =100)\n",
        "orneklem10 = np.random.choice(a=populasyon, size =100)"
      ],
      "execution_count": 0,
      "outputs": []
    },
    {
      "cell_type": "code",
      "metadata": {
        "id": "2bi2eQb45FUi",
        "colab_type": "code",
        "colab": {
          "base_uri": "https://localhost:8080/",
          "height": 34
        },
        "outputId": "6bf48b0f-3bcc-450b-a268-5236c8195efd"
      },
      "source": [
        "(orneklem1.mean()+orneklem2.mean()+orneklem3.mean()+orneklem4.mean()+orneklem5.mean()+orneklem6.mean()+orneklem7.mean()+orneklem8.mean()+orneklem9.mean()+orneklem10.mean()) / 10\n",
        "# 10 tane örneklem alıp bu örneklemlerin ortalamasını alarak örneklem dağılımı oluşturduk. \n",
        "# Böylece merkezi limit teorimineki anlatılan üzerine anakitle ortalamasına yaklaşıyoruz.,\n",
        "# Bir nevi örneklemin gücünü kuvvetlendiriyoruz.\n",
        "# Gözlemlendiği üzere örneklem dağılımı tek örnekleme göre populasyon ortalamasına daha da yaklaştı."
      ],
      "execution_count": 57,
      "outputs": [
        {
          "output_type": "execute_result",
          "data": {
            "text/plain": [
              "39.40599999999999"
            ]
          },
          "metadata": {
            "tags": []
          },
          "execution_count": 57
        }
      ]
    },
    {
      "cell_type": "markdown",
      "metadata": {
        "id": "zGiB-CKI5FUn",
        "colab_type": "text"
      },
      "source": [
        "## Betimsel İstatistikler"
      ]
    },
    {
      "cell_type": "code",
      "metadata": {
        "id": "WdyQ1ph15FUo",
        "colab_type": "code",
        "colab": {
          "base_uri": "https://localhost:8080/",
          "height": 419
        },
        "outputId": "74477d5e-63f1-4f49-aa89-fa7dc4ddbdc5"
      },
      "source": [
        "import seaborn as sns\n",
        "tips = sns.load_dataset(\"tips\")\n",
        "df = tips.copy()\n",
        "df"
      ],
      "execution_count": 58,
      "outputs": [
        {
          "output_type": "execute_result",
          "data": {
            "text/html": [
              "<div>\n",
              "<style scoped>\n",
              "    .dataframe tbody tr th:only-of-type {\n",
              "        vertical-align: middle;\n",
              "    }\n",
              "\n",
              "    .dataframe tbody tr th {\n",
              "        vertical-align: top;\n",
              "    }\n",
              "\n",
              "    .dataframe thead th {\n",
              "        text-align: right;\n",
              "    }\n",
              "</style>\n",
              "<table border=\"1\" class=\"dataframe\">\n",
              "  <thead>\n",
              "    <tr style=\"text-align: right;\">\n",
              "      <th></th>\n",
              "      <th>total_bill</th>\n",
              "      <th>tip</th>\n",
              "      <th>sex</th>\n",
              "      <th>smoker</th>\n",
              "      <th>day</th>\n",
              "      <th>time</th>\n",
              "      <th>size</th>\n",
              "    </tr>\n",
              "  </thead>\n",
              "  <tbody>\n",
              "    <tr>\n",
              "      <th>0</th>\n",
              "      <td>16.99</td>\n",
              "      <td>1.01</td>\n",
              "      <td>Female</td>\n",
              "      <td>No</td>\n",
              "      <td>Sun</td>\n",
              "      <td>Dinner</td>\n",
              "      <td>2</td>\n",
              "    </tr>\n",
              "    <tr>\n",
              "      <th>1</th>\n",
              "      <td>10.34</td>\n",
              "      <td>1.66</td>\n",
              "      <td>Male</td>\n",
              "      <td>No</td>\n",
              "      <td>Sun</td>\n",
              "      <td>Dinner</td>\n",
              "      <td>3</td>\n",
              "    </tr>\n",
              "    <tr>\n",
              "      <th>2</th>\n",
              "      <td>21.01</td>\n",
              "      <td>3.50</td>\n",
              "      <td>Male</td>\n",
              "      <td>No</td>\n",
              "      <td>Sun</td>\n",
              "      <td>Dinner</td>\n",
              "      <td>3</td>\n",
              "    </tr>\n",
              "    <tr>\n",
              "      <th>3</th>\n",
              "      <td>23.68</td>\n",
              "      <td>3.31</td>\n",
              "      <td>Male</td>\n",
              "      <td>No</td>\n",
              "      <td>Sun</td>\n",
              "      <td>Dinner</td>\n",
              "      <td>2</td>\n",
              "    </tr>\n",
              "    <tr>\n",
              "      <th>4</th>\n",
              "      <td>24.59</td>\n",
              "      <td>3.61</td>\n",
              "      <td>Female</td>\n",
              "      <td>No</td>\n",
              "      <td>Sun</td>\n",
              "      <td>Dinner</td>\n",
              "      <td>4</td>\n",
              "    </tr>\n",
              "    <tr>\n",
              "      <th>...</th>\n",
              "      <td>...</td>\n",
              "      <td>...</td>\n",
              "      <td>...</td>\n",
              "      <td>...</td>\n",
              "      <td>...</td>\n",
              "      <td>...</td>\n",
              "      <td>...</td>\n",
              "    </tr>\n",
              "    <tr>\n",
              "      <th>239</th>\n",
              "      <td>29.03</td>\n",
              "      <td>5.92</td>\n",
              "      <td>Male</td>\n",
              "      <td>No</td>\n",
              "      <td>Sat</td>\n",
              "      <td>Dinner</td>\n",
              "      <td>3</td>\n",
              "    </tr>\n",
              "    <tr>\n",
              "      <th>240</th>\n",
              "      <td>27.18</td>\n",
              "      <td>2.00</td>\n",
              "      <td>Female</td>\n",
              "      <td>Yes</td>\n",
              "      <td>Sat</td>\n",
              "      <td>Dinner</td>\n",
              "      <td>2</td>\n",
              "    </tr>\n",
              "    <tr>\n",
              "      <th>241</th>\n",
              "      <td>22.67</td>\n",
              "      <td>2.00</td>\n",
              "      <td>Male</td>\n",
              "      <td>Yes</td>\n",
              "      <td>Sat</td>\n",
              "      <td>Dinner</td>\n",
              "      <td>2</td>\n",
              "    </tr>\n",
              "    <tr>\n",
              "      <th>242</th>\n",
              "      <td>17.82</td>\n",
              "      <td>1.75</td>\n",
              "      <td>Male</td>\n",
              "      <td>No</td>\n",
              "      <td>Sat</td>\n",
              "      <td>Dinner</td>\n",
              "      <td>2</td>\n",
              "    </tr>\n",
              "    <tr>\n",
              "      <th>243</th>\n",
              "      <td>18.78</td>\n",
              "      <td>3.00</td>\n",
              "      <td>Female</td>\n",
              "      <td>No</td>\n",
              "      <td>Thur</td>\n",
              "      <td>Dinner</td>\n",
              "      <td>2</td>\n",
              "    </tr>\n",
              "  </tbody>\n",
              "</table>\n",
              "<p>244 rows × 7 columns</p>\n",
              "</div>"
            ],
            "text/plain": [
              "     total_bill   tip     sex smoker   day    time  size\n",
              "0         16.99  1.01  Female     No   Sun  Dinner     2\n",
              "1         10.34  1.66    Male     No   Sun  Dinner     3\n",
              "2         21.01  3.50    Male     No   Sun  Dinner     3\n",
              "3         23.68  3.31    Male     No   Sun  Dinner     2\n",
              "4         24.59  3.61  Female     No   Sun  Dinner     4\n",
              "..          ...   ...     ...    ...   ...     ...   ...\n",
              "239       29.03  5.92    Male     No   Sat  Dinner     3\n",
              "240       27.18  2.00  Female    Yes   Sat  Dinner     2\n",
              "241       22.67  2.00    Male    Yes   Sat  Dinner     2\n",
              "242       17.82  1.75    Male     No   Sat  Dinner     2\n",
              "243       18.78  3.00  Female     No  Thur  Dinner     2\n",
              "\n",
              "[244 rows x 7 columns]"
            ]
          },
          "metadata": {
            "tags": []
          },
          "execution_count": 58
        }
      ]
    },
    {
      "cell_type": "code",
      "metadata": {
        "id": "puRPNOYW5FUr",
        "colab_type": "code",
        "colab": {
          "base_uri": "https://localhost:8080/",
          "height": 142
        },
        "outputId": "a6625d53-b259-4dc3-bada-ff120852703c"
      },
      "source": [
        "df.describe().T"
      ],
      "execution_count": 59,
      "outputs": [
        {
          "output_type": "execute_result",
          "data": {
            "text/html": [
              "<div>\n",
              "<style scoped>\n",
              "    .dataframe tbody tr th:only-of-type {\n",
              "        vertical-align: middle;\n",
              "    }\n",
              "\n",
              "    .dataframe tbody tr th {\n",
              "        vertical-align: top;\n",
              "    }\n",
              "\n",
              "    .dataframe thead th {\n",
              "        text-align: right;\n",
              "    }\n",
              "</style>\n",
              "<table border=\"1\" class=\"dataframe\">\n",
              "  <thead>\n",
              "    <tr style=\"text-align: right;\">\n",
              "      <th></th>\n",
              "      <th>count</th>\n",
              "      <th>mean</th>\n",
              "      <th>std</th>\n",
              "      <th>min</th>\n",
              "      <th>25%</th>\n",
              "      <th>50%</th>\n",
              "      <th>75%</th>\n",
              "      <th>max</th>\n",
              "    </tr>\n",
              "  </thead>\n",
              "  <tbody>\n",
              "    <tr>\n",
              "      <th>total_bill</th>\n",
              "      <td>244.0</td>\n",
              "      <td>19.785943</td>\n",
              "      <td>8.902412</td>\n",
              "      <td>3.07</td>\n",
              "      <td>13.3475</td>\n",
              "      <td>17.795</td>\n",
              "      <td>24.1275</td>\n",
              "      <td>50.81</td>\n",
              "    </tr>\n",
              "    <tr>\n",
              "      <th>tip</th>\n",
              "      <td>244.0</td>\n",
              "      <td>2.998279</td>\n",
              "      <td>1.383638</td>\n",
              "      <td>1.00</td>\n",
              "      <td>2.0000</td>\n",
              "      <td>2.900</td>\n",
              "      <td>3.5625</td>\n",
              "      <td>10.00</td>\n",
              "    </tr>\n",
              "    <tr>\n",
              "      <th>size</th>\n",
              "      <td>244.0</td>\n",
              "      <td>2.569672</td>\n",
              "      <td>0.951100</td>\n",
              "      <td>1.00</td>\n",
              "      <td>2.0000</td>\n",
              "      <td>2.000</td>\n",
              "      <td>3.0000</td>\n",
              "      <td>6.00</td>\n",
              "    </tr>\n",
              "  </tbody>\n",
              "</table>\n",
              "</div>"
            ],
            "text/plain": [
              "            count       mean       std   min      25%     50%      75%    max\n",
              "total_bill  244.0  19.785943  8.902412  3.07  13.3475  17.795  24.1275  50.81\n",
              "tip         244.0   2.998279  1.383638  1.00   2.0000   2.900   3.5625  10.00\n",
              "size        244.0   2.569672  0.951100  1.00   2.0000   2.000   3.0000   6.00"
            ]
          },
          "metadata": {
            "tags": []
          },
          "execution_count": 59
        }
      ]
    },
    {
      "cell_type": "code",
      "metadata": {
        "id": "bMO3mMxO5FUu",
        "colab_type": "code",
        "colab": {
          "base_uri": "https://localhost:8080/",
          "height": 170
        },
        "outputId": "e131b711-6d3d-41ef-a51f-8e5dbaf290a2"
      },
      "source": [
        "!pip install researchpy\n",
        "import researchpy as rp"
      ],
      "execution_count": 60,
      "outputs": [
        {
          "output_type": "stream",
          "text": [
            "Requirement already satisfied: researchpy in /usr/local/lib/python3.6/dist-packages (0.1.9)\n",
            "Requirement already satisfied: scipy in /usr/local/lib/python3.6/dist-packages (from researchpy) (1.4.1)\n",
            "Requirement already satisfied: pandas in /usr/local/lib/python3.6/dist-packages (from researchpy) (1.0.3)\n",
            "Requirement already satisfied: numpy in /usr/local/lib/python3.6/dist-packages (from researchpy) (1.18.4)\n",
            "Requirement already satisfied: statsmodels in /usr/local/lib/python3.6/dist-packages (from researchpy) (0.10.2)\n",
            "Requirement already satisfied: python-dateutil>=2.6.1 in /usr/local/lib/python3.6/dist-packages (from pandas->researchpy) (2.8.1)\n",
            "Requirement already satisfied: pytz>=2017.2 in /usr/local/lib/python3.6/dist-packages (from pandas->researchpy) (2018.9)\n",
            "Requirement already satisfied: patsy>=0.4.0 in /usr/local/lib/python3.6/dist-packages (from statsmodels->researchpy) (0.5.1)\n",
            "Requirement already satisfied: six>=1.5 in /usr/local/lib/python3.6/dist-packages (from python-dateutil>=2.6.1->pandas->researchpy) (1.12.0)\n"
          ],
          "name": "stdout"
        }
      ]
    },
    {
      "cell_type": "code",
      "metadata": {
        "id": "FhYpycCB5FUx",
        "colab_type": "code",
        "colab": {
          "base_uri": "https://localhost:8080/",
          "height": 176
        },
        "outputId": "3443e082-fc5e-421a-e3d8-dafbd3723a90"
      },
      "source": [
        "rp.summary_cont(df[[\"total_bill\",\"tip\",\"size\"]])\n",
        "# Varible: değişken\n",
        "# N: gözlem sayısı\n",
        "# mean: ortalamma\n",
        "# SD: standart sapması\n",
        "# SE : standart hata\n",
        "# conf. interval güven aralıkları"
      ],
      "execution_count": 61,
      "outputs": [
        {
          "output_type": "stream",
          "text": [
            "\n",
            "\n"
          ],
          "name": "stdout"
        },
        {
          "output_type": "execute_result",
          "data": {
            "text/html": [
              "<div>\n",
              "<style scoped>\n",
              "    .dataframe tbody tr th:only-of-type {\n",
              "        vertical-align: middle;\n",
              "    }\n",
              "\n",
              "    .dataframe tbody tr th {\n",
              "        vertical-align: top;\n",
              "    }\n",
              "\n",
              "    .dataframe thead th {\n",
              "        text-align: right;\n",
              "    }\n",
              "</style>\n",
              "<table border=\"1\" class=\"dataframe\">\n",
              "  <thead>\n",
              "    <tr style=\"text-align: right;\">\n",
              "      <th></th>\n",
              "      <th>Variable</th>\n",
              "      <th>N</th>\n",
              "      <th>Mean</th>\n",
              "      <th>SD</th>\n",
              "      <th>SE</th>\n",
              "      <th>95% Conf.</th>\n",
              "      <th>Interval</th>\n",
              "    </tr>\n",
              "  </thead>\n",
              "  <tbody>\n",
              "    <tr>\n",
              "      <th>0</th>\n",
              "      <td>total_bill</td>\n",
              "      <td>244.0</td>\n",
              "      <td>19.785943</td>\n",
              "      <td>8.902412</td>\n",
              "      <td>0.569919</td>\n",
              "      <td>18.663332</td>\n",
              "      <td>20.908554</td>\n",
              "    </tr>\n",
              "    <tr>\n",
              "      <th>1</th>\n",
              "      <td>tip</td>\n",
              "      <td>244.0</td>\n",
              "      <td>2.998279</td>\n",
              "      <td>1.383638</td>\n",
              "      <td>0.088578</td>\n",
              "      <td>2.823799</td>\n",
              "      <td>3.172758</td>\n",
              "    </tr>\n",
              "    <tr>\n",
              "      <th>2</th>\n",
              "      <td>size</td>\n",
              "      <td>244.0</td>\n",
              "      <td>2.569672</td>\n",
              "      <td>0.951100</td>\n",
              "      <td>0.060888</td>\n",
              "      <td>2.449737</td>\n",
              "      <td>2.689608</td>\n",
              "    </tr>\n",
              "  </tbody>\n",
              "</table>\n",
              "</div>"
            ],
            "text/plain": [
              "     Variable      N       Mean        SD        SE  95% Conf.   Interval\n",
              "0  total_bill  244.0  19.785943  8.902412  0.569919  18.663332  20.908554\n",
              "1         tip  244.0   2.998279  1.383638  0.088578   2.823799   3.172758\n",
              "2        size  244.0   2.569672  0.951100  0.060888   2.449737   2.689608"
            ]
          },
          "metadata": {
            "tags": []
          },
          "execution_count": 61
        }
      ]
    },
    {
      "cell_type": "code",
      "metadata": {
        "id": "PVl-_jbj5FU0",
        "colab_type": "code",
        "colab": {
          "base_uri": "https://localhost:8080/",
          "height": 297
        },
        "outputId": "ae1b9989-ecc7-42b8-9428-d9f2da5ff1cb"
      },
      "source": [
        "rp.summary_cat(df[[\"sex\",\"smoker\",\"day\"]]) # (ikitane köşeli parantez girmemizin sebebi fancy index yapıyoruz.)"
      ],
      "execution_count": 62,
      "outputs": [
        {
          "output_type": "execute_result",
          "data": {
            "text/html": [
              "<div>\n",
              "<style scoped>\n",
              "    .dataframe tbody tr th:only-of-type {\n",
              "        vertical-align: middle;\n",
              "    }\n",
              "\n",
              "    .dataframe tbody tr th {\n",
              "        vertical-align: top;\n",
              "    }\n",
              "\n",
              "    .dataframe thead th {\n",
              "        text-align: right;\n",
              "    }\n",
              "</style>\n",
              "<table border=\"1\" class=\"dataframe\">\n",
              "  <thead>\n",
              "    <tr style=\"text-align: right;\">\n",
              "      <th></th>\n",
              "      <th>Variable</th>\n",
              "      <th>Outcome</th>\n",
              "      <th>Count</th>\n",
              "      <th>Percent</th>\n",
              "    </tr>\n",
              "  </thead>\n",
              "  <tbody>\n",
              "    <tr>\n",
              "      <th>0</th>\n",
              "      <td>sex</td>\n",
              "      <td>Male</td>\n",
              "      <td>157</td>\n",
              "      <td>64.34</td>\n",
              "    </tr>\n",
              "    <tr>\n",
              "      <th>1</th>\n",
              "      <td></td>\n",
              "      <td>Female</td>\n",
              "      <td>87</td>\n",
              "      <td>35.66</td>\n",
              "    </tr>\n",
              "    <tr>\n",
              "      <th>2</th>\n",
              "      <td>smoker</td>\n",
              "      <td>No</td>\n",
              "      <td>151</td>\n",
              "      <td>61.89</td>\n",
              "    </tr>\n",
              "    <tr>\n",
              "      <th>3</th>\n",
              "      <td></td>\n",
              "      <td>Yes</td>\n",
              "      <td>93</td>\n",
              "      <td>38.11</td>\n",
              "    </tr>\n",
              "    <tr>\n",
              "      <th>4</th>\n",
              "      <td>day</td>\n",
              "      <td>Sat</td>\n",
              "      <td>87</td>\n",
              "      <td>35.66</td>\n",
              "    </tr>\n",
              "    <tr>\n",
              "      <th>5</th>\n",
              "      <td></td>\n",
              "      <td>Sun</td>\n",
              "      <td>76</td>\n",
              "      <td>31.15</td>\n",
              "    </tr>\n",
              "    <tr>\n",
              "      <th>6</th>\n",
              "      <td></td>\n",
              "      <td>Thur</td>\n",
              "      <td>62</td>\n",
              "      <td>25.41</td>\n",
              "    </tr>\n",
              "    <tr>\n",
              "      <th>7</th>\n",
              "      <td></td>\n",
              "      <td>Fri</td>\n",
              "      <td>19</td>\n",
              "      <td>7.79</td>\n",
              "    </tr>\n",
              "  </tbody>\n",
              "</table>\n",
              "</div>"
            ],
            "text/plain": [
              "  Variable Outcome  Count  Percent\n",
              "0      sex    Male    157    64.34\n",
              "1           Female     87    35.66\n",
              "2   smoker      No    151    61.89\n",
              "3              Yes     93    38.11\n",
              "4      day     Sat     87    35.66\n",
              "5              Sun     76    31.15\n",
              "6             Thur     62    25.41\n",
              "7              Fri     19     7.79"
            ]
          },
          "metadata": {
            "tags": []
          },
          "execution_count": 62
        }
      ]
    },
    {
      "cell_type": "code",
      "metadata": {
        "id": "kx1k95aH5FU2",
        "colab_type": "code",
        "colab": {
          "base_uri": "https://localhost:8080/",
          "height": 111
        },
        "outputId": "6641dfad-bad1-4375-e0b0-886c393f23d8"
      },
      "source": [
        "df[[\"tip\",\"total_bill\"]].cov() # tip ile bill arasındaki kovaryansı fancy index yaaptıktan sonra cov diyerek görebiliriz."
      ],
      "execution_count": 63,
      "outputs": [
        {
          "output_type": "execute_result",
          "data": {
            "text/html": [
              "<div>\n",
              "<style scoped>\n",
              "    .dataframe tbody tr th:only-of-type {\n",
              "        vertical-align: middle;\n",
              "    }\n",
              "\n",
              "    .dataframe tbody tr th {\n",
              "        vertical-align: top;\n",
              "    }\n",
              "\n",
              "    .dataframe thead th {\n",
              "        text-align: right;\n",
              "    }\n",
              "</style>\n",
              "<table border=\"1\" class=\"dataframe\">\n",
              "  <thead>\n",
              "    <tr style=\"text-align: right;\">\n",
              "      <th></th>\n",
              "      <th>tip</th>\n",
              "      <th>total_bill</th>\n",
              "    </tr>\n",
              "  </thead>\n",
              "  <tbody>\n",
              "    <tr>\n",
              "      <th>tip</th>\n",
              "      <td>1.914455</td>\n",
              "      <td>8.323502</td>\n",
              "    </tr>\n",
              "    <tr>\n",
              "      <th>total_bill</th>\n",
              "      <td>8.323502</td>\n",
              "      <td>79.252939</td>\n",
              "    </tr>\n",
              "  </tbody>\n",
              "</table>\n",
              "</div>"
            ],
            "text/plain": [
              "                 tip  total_bill\n",
              "tip         1.914455    8.323502\n",
              "total_bill  8.323502   79.252939"
            ]
          },
          "metadata": {
            "tags": []
          },
          "execution_count": 63
        }
      ]
    },
    {
      "cell_type": "code",
      "metadata": {
        "id": "S_khjbCK5FU5",
        "colab_type": "code",
        "colab": {
          "base_uri": "https://localhost:8080/",
          "height": 111
        },
        "outputId": "57cd38b8-0ec9-4a74-ae50-7379e50b5c24"
      },
      "source": [
        "df[[\"tip\",\"total_bill\"]].corr() # tip ile total_bill arasınaki korelasyonu görüyoruz.\n",
        "# görselleştirilmiş halinde grafikdeki doğrunun eğimi bu ilişkiyi gösterir."
      ],
      "execution_count": 64,
      "outputs": [
        {
          "output_type": "execute_result",
          "data": {
            "text/html": [
              "<div>\n",
              "<style scoped>\n",
              "    .dataframe tbody tr th:only-of-type {\n",
              "        vertical-align: middle;\n",
              "    }\n",
              "\n",
              "    .dataframe tbody tr th {\n",
              "        vertical-align: top;\n",
              "    }\n",
              "\n",
              "    .dataframe thead th {\n",
              "        text-align: right;\n",
              "    }\n",
              "</style>\n",
              "<table border=\"1\" class=\"dataframe\">\n",
              "  <thead>\n",
              "    <tr style=\"text-align: right;\">\n",
              "      <th></th>\n",
              "      <th>tip</th>\n",
              "      <th>total_bill</th>\n",
              "    </tr>\n",
              "  </thead>\n",
              "  <tbody>\n",
              "    <tr>\n",
              "      <th>tip</th>\n",
              "      <td>1.000000</td>\n",
              "      <td>0.675734</td>\n",
              "    </tr>\n",
              "    <tr>\n",
              "      <th>total_bill</th>\n",
              "      <td>0.675734</td>\n",
              "      <td>1.000000</td>\n",
              "    </tr>\n",
              "  </tbody>\n",
              "</table>\n",
              "</div>"
            ],
            "text/plain": [
              "                 tip  total_bill\n",
              "tip         1.000000    0.675734\n",
              "total_bill  0.675734    1.000000"
            ]
          },
          "metadata": {
            "tags": []
          },
          "execution_count": 64
        }
      ]
    },
    {
      "cell_type": "code",
      "metadata": {
        "id": "igiw8a1H5FU8",
        "colab_type": "code",
        "colab": {}
      },
      "source": [
        "# Güven Aralıkları"
      ],
      "execution_count": 0,
      "outputs": []
    },
    {
      "cell_type": "code",
      "metadata": {
        "id": "Vcftt6NQ5FU_",
        "colab_type": "code",
        "colab": {}
      },
      "source": [
        "import numpy as np\n",
        "fiyatlar = np.random.randint(10,110,1000)"
      ],
      "execution_count": 0,
      "outputs": []
    },
    {
      "cell_type": "code",
      "metadata": {
        "id": "Nu7Rtzri5FVB",
        "colab_type": "code",
        "colab": {
          "base_uri": "https://localhost:8080/",
          "height": 34
        },
        "outputId": "d06bc098-f0c3-4b4a-c9a8-0d312bb4bdc9"
      },
      "source": [
        "fiyatlar.mean()"
      ],
      "execution_count": 67,
      "outputs": [
        {
          "output_type": "execute_result",
          "data": {
            "text/plain": [
              "58.492"
            ]
          },
          "metadata": {
            "tags": []
          },
          "execution_count": 67
        }
      ]
    },
    {
      "cell_type": "code",
      "metadata": {
        "id": "LrFpG-8F5FVF",
        "colab_type": "code",
        "colab": {}
      },
      "source": [
        "import statsmodels.stats.api as sms "
      ],
      "execution_count": 0,
      "outputs": []
    },
    {
      "cell_type": "code",
      "metadata": {
        "id": "S_oTegsl5FVH",
        "colab_type": "code",
        "colab": {
          "base_uri": "https://localhost:8080/",
          "height": 34
        },
        "outputId": "32f9879a-4f07-4ef1-dfe8-24cc54aa528b"
      },
      "source": [
        "sms.DescrStatsW(fiyatlar).tconfint_mean() # Fiyatların güven aralığını hesapladık."
      ],
      "execution_count": 69,
      "outputs": [
        {
          "output_type": "execute_result",
          "data": {
            "text/plain": [
              "(56.67953887736034, 60.30446112263965)"
            ]
          },
          "metadata": {
            "tags": []
          },
          "execution_count": 69
        }
      ]
    },
    {
      "cell_type": "markdown",
      "metadata": {
        "id": "9W4xA1T45FVK",
        "colab_type": "text"
      },
      "source": [
        "## Olasılık Dağılımları"
      ]
    },
    {
      "cell_type": "markdown",
      "metadata": {
        "id": "bsD2E0IY5FVK",
        "colab_type": "text"
      },
      "source": [
        "### Bernoulli Dağılımları"
      ]
    },
    {
      "cell_type": "code",
      "metadata": {
        "id": "Luvtgdug5FVL",
        "colab_type": "code",
        "colab": {}
      },
      "source": [
        "from  scipy.stats import bernoulli # scipy adındaki kütüphanenin stats'ından bernoulli adındaki fonksiyonu import ettik."
      ],
      "execution_count": 0,
      "outputs": []
    },
    {
      "cell_type": "code",
      "metadata": {
        "id": "0B1D-wrp5FVN",
        "colab_type": "code",
        "colab": {}
      },
      "source": [
        "p = 0.6 # yazı tura gibi 2 olasılıklı keskli olasılığın olma olasılığına yani 1 ine 1 üzerinden değer atadık"
      ],
      "execution_count": 0,
      "outputs": []
    },
    {
      "cell_type": "code",
      "metadata": {
        "id": "sZnRTs8I5FVQ",
        "colab_type": "code",
        "colab": {
          "base_uri": "https://localhost:8080/",
          "height": 34
        },
        "outputId": "046ab209-e783-4b2e-b68a-65a547301f8a"
      },
      "source": [
        "rv = bernoulli(p) #bernoulli adlı fonksiyona p yi soktuk ve bir değişkene atadık\n",
        "rv.pmf(k = 1) # o değişkene probaly mass function yani olasılık kütle fonksiyonun kısltması olan pmf fonksiyonuna k üzerinden değer çağırdık.1 olma,0 olmama."
      ],
      "execution_count": 72,
      "outputs": [
        {
          "output_type": "execute_result",
          "data": {
            "text/plain": [
              "0.6"
            ]
          },
          "metadata": {
            "tags": []
          },
          "execution_count": 72
        }
      ]
    },
    {
      "cell_type": "code",
      "metadata": {
        "id": "_kxifrVwEyFm",
        "colab_type": "code",
        "colab": {
          "base_uri": "https://localhost:8080/",
          "height": 34
        },
        "outputId": "c7409b1a-fb61-4351-881f-c1cf7252aadc"
      },
      "source": [
        "rv.pmf(k=0) # istediğimiz durumun olma olasılığını görüyoruz.."
      ],
      "execution_count": 73,
      "outputs": [
        {
          "output_type": "execute_result",
          "data": {
            "text/plain": [
              "0.4"
            ]
          },
          "metadata": {
            "tags": []
          },
          "execution_count": 73
        }
      ]
    },
    {
      "cell_type": "markdown",
      "metadata": {
        "id": "e7q62Vwr5FVT",
        "colab_type": "text"
      },
      "source": [
        "### Büyük Sayılar Teorisi"
      ]
    },
    {
      "cell_type": "code",
      "metadata": {
        "id": "q17fgoRt5FVT",
        "colab_type": "code",
        "colab": {
          "base_uri": "https://localhost:8080/",
          "height": 357
        },
        "outputId": "180340f6-992b-46f7-a9b7-0d3ba01d5f2a"
      },
      "source": [
        "import numpy as np\n",
        "rng =np.random.RandomState(123) # random durumunu sabitledik\n",
        "for i in np.arange(1,21): #1 ile 20 arasında dolaşacak bir i yi for döngüsüne soktuk\n",
        "    deney_sayisi = 2**i #2^20 ye akadar gidecek her üsten geçecek bir değeri deney sayisi olarak atadık\n",
        "    yazi_turalar = rng.randint(0,2,size=deney_sayisi) # 0 ve 1 olmak üzere iki değikeni rastgele attık ve gelenleri yazı olarak kaydettik\n",
        "    yazi_olasiliklari = np.mean(yazi_turalar) #bunnlarınn ortalamasını aldığımızda yazıarın gelme olasılığını bulduk\n",
        "    print(\"Atış Sayısı:\",deney_sayisi,\"----\",'Yazi Olasılıkları:%.2f' %(yazi_olasiliklari*100)) #  bunları yazdırdık\n",
        "    "
      ],
      "execution_count": 74,
      "outputs": [
        {
          "output_type": "stream",
          "text": [
            "Atış Sayısı: 2 ---- Yazi Olasılıkları:50.00\n",
            "Atış Sayısı: 4 ---- Yazi Olasılıkları:0.00\n",
            "Atış Sayısı: 8 ---- Yazi Olasılıkları:62.50\n",
            "Atış Sayısı: 16 ---- Yazi Olasılıkları:43.75\n",
            "Atış Sayısı: 32 ---- Yazi Olasılıkları:46.88\n",
            "Atış Sayısı: 64 ---- Yazi Olasılıkları:56.25\n",
            "Atış Sayısı: 128 ---- Yazi Olasılıkları:50.78\n",
            "Atış Sayısı: 256 ---- Yazi Olasılıkları:52.73\n",
            "Atış Sayısı: 512 ---- Yazi Olasılıkları:52.93\n",
            "Atış Sayısı: 1024 ---- Yazi Olasılıkları:50.20\n",
            "Atış Sayısı: 2048 ---- Yazi Olasılıkları:48.58\n",
            "Atış Sayısı: 4096 ---- Yazi Olasılıkları:49.49\n",
            "Atış Sayısı: 8192 ---- Yazi Olasılıkları:49.58\n",
            "Atış Sayısı: 16384 ---- Yazi Olasılıkları:49.96\n",
            "Atış Sayısı: 32768 ---- Yazi Olasılıkları:50.00\n",
            "Atış Sayısı: 65536 ---- Yazi Olasılıkları:49.68\n",
            "Atış Sayısı: 131072 ---- Yazi Olasılıkları:49.97\n",
            "Atış Sayısı: 262144 ---- Yazi Olasılıkları:50.13\n",
            "Atış Sayısı: 524288 ---- Yazi Olasılıkları:50.01\n",
            "Atış Sayısı: 1048576 ---- Yazi Olasılıkları:50.09\n"
          ],
          "name": "stdout"
        }
      ]
    },
    {
      "cell_type": "markdown",
      "metadata": {
        "id": "5MFixYBI5FVX",
        "colab_type": "text"
      },
      "source": [
        "### Binom Dağılımı"
      ]
    },
    {
      "cell_type": "code",
      "metadata": {
        "id": "o56arrE85FVX",
        "colab_type": "code",
        "colab": {}
      },
      "source": [
        "from scipy.stats import binom"
      ],
      "execution_count": 0,
      "outputs": []
    },
    {
      "cell_type": "code",
      "metadata": {
        "id": "iMlZBPAT5FVa",
        "colab_type": "code",
        "colab": {
          "base_uri": "https://localhost:8080/",
          "height": 68
        },
        "outputId": "49fb1ddf-306f-4391-cdf5-2ecff54829c1"
      },
      "source": [
        "p = 0.01 # 0.01 olasılıkla\n",
        "n = 100 # 100 denemede\n",
        "rv = binom(n,p)\n",
        "print(rv.pmf(1)) # 1 kez baarılı olma olasılığı\n",
        "print(rv.pmf(5)) # 5 kez başarılı olma olasılığı\n",
        "print(rv.pmf(10)) # 10 kez başarılı olma olasılığı"
      ],
      "execution_count": 98,
      "outputs": [
        {
          "output_type": "stream",
          "text": [
            "0.36972963764971983\n",
            "0.0028977871237616114\n",
            "7.006035693977161e-08\n"
          ],
          "name": "stdout"
        }
      ]
    },
    {
      "cell_type": "markdown",
      "metadata": {
        "id": "QWywTw935FVc",
        "colab_type": "text"
      },
      "source": [
        "### Poisson Dağılımı"
      ]
    },
    {
      "cell_type": "code",
      "metadata": {
        "id": "EvCOrth25FVd",
        "colab_type": "code",
        "colab": {}
      },
      "source": [
        "from scipy.stats import poisson\n",
        "# gerekenler:\n",
        "# lambda(ortalama/varyans) değeri\n",
        "# x aranan değer\n",
        "# e matematiksel sabit(fonksiyon veriyor)\n",
        "# k kaç tane nadir olay olmasını sorguluyoruz."
      ],
      "execution_count": 0,
      "outputs": []
    },
    {
      "cell_type": "code",
      "metadata": {
        "id": "t_Os0v-M5FVf",
        "colab_type": "code",
        "colab": {
          "base_uri": "https://localhost:8080/",
          "height": 34
        },
        "outputId": "0fa03455-bd0d-4111-ca4c-cefb46e93276"
      },
      "source": [
        "rv = poisson(mu = 0.1) # poisson fonksiyonuna mu adlı argümanın ekledik. Bu argümana verinin lamda değerini girmemiz gerekiyor.\n",
        "print(rv.pmf(k =0)) # pmf fonksiyonunda istenen olasılık sayısı olan x'i yazdık.\n",
        "# görüldüğü üzere k ya 0 girdiğimizde nadir olay yok demiş oluruz. verimizde nadir olay olmama olasılığı 0.90 imiş."
      ],
      "execution_count": 108,
      "outputs": [
        {
          "output_type": "stream",
          "text": [
            "0.9048374180359595\n"
          ],
          "name": "stdout"
        }
      ]
    },
    {
      "cell_type": "code",
      "metadata": {
        "id": "-RhfFRyj5FVh",
        "colab_type": "code",
        "colab": {
          "base_uri": "https://localhost:8080/",
          "height": 34
        },
        "outputId": "c0ee9ea9-2999-4e0f-cf2d-7a5f92d17341"
      },
      "source": [
        "print(rv.pmf(k=1)) # 1 nadir olay olma olasılığı 0.09 imiş"
      ],
      "execution_count": 109,
      "outputs": [
        {
          "output_type": "stream",
          "text": [
            "0.09048374180359597\n"
          ],
          "name": "stdout"
        }
      ]
    },
    {
      "cell_type": "code",
      "metadata": {
        "id": "KrysHEeP5FVj",
        "colab_type": "code",
        "colab": {
          "base_uri": "https://localhost:8080/",
          "height": 34
        },
        "outputId": "e17afdbf-8226-4649-d0b8-727fd0c4a415"
      },
      "source": [
        "print(rv.pmf(k=3)) # 3  nadir olay olma olasılığı 0.00015 imiş "
      ],
      "execution_count": 110,
      "outputs": [
        {
          "output_type": "stream",
          "text": [
            "0.00015080623633932676\n"
          ],
          "name": "stdout"
        }
      ]
    },
    {
      "cell_type": "code",
      "metadata": {
        "id": "KrIgmg8XYEDg",
        "colab_type": "code",
        "colab": {
          "base_uri": "https://localhost:8080/",
          "height": 34
        },
        "outputId": "7767a9cd-f8a8-47e7-aaa4-b8d515493b92"
      },
      "source": [
        "print(rv.pmf(k=5)) # 5 nadir olay olma olasılığı"
      ],
      "execution_count": 111,
      "outputs": [
        {
          "output_type": "stream",
          "text": [
            "7.54031181696634e-08\n"
          ],
          "name": "stdout"
        }
      ]
    },
    {
      "cell_type": "markdown",
      "metadata": {
        "id": "ZeR2x9pV5FVl",
        "colab_type": "text"
      },
      "source": [
        "## Normal Dağılım"
      ]
    },
    {
      "cell_type": "code",
      "metadata": {
        "id": "kVIwrFh-5FVm",
        "colab_type": "code",
        "colab": {
          "base_uri": "https://localhost:8080/",
          "height": 34
        },
        "outputId": "e17384d3-43a7-4b5e-969a-4c448ccf3527"
      },
      "source": [
        "from scipy.stats import norm\n",
        "#ortalaması 80 ve standart sapması 5 olan normal dağılıma sahip olduğu bilinen sürekli rassal değişkenlerin normal dağılımını aldık.\n",
        "1-norm.cdf(90,80,5) # burda normal dağlımın 90 dan fazla olması gerektiğini söyledim. ortalamasını 80 yazdım. standart sapmay 5 yazdım\n",
        "#1 den çıkartırsak 90 dan fazla olanları, çıkarmazsak 90 dan az olanları buluruz.\n",
        "#.cdf fonksiyonu kullanmamızın sebebi: cdf demek cumiltive densty function.. kullanma sebebimiz ise sürekli bir değişkenin yoğunluk grafiğinin belli bir kısmını... \n",
        "# alan olarak alıyoruz.    "
      ],
      "execution_count": 117,
      "outputs": [
        {
          "output_type": "execute_result",
          "data": {
            "text/plain": [
              "0.02275013194817921"
            ]
          },
          "metadata": {
            "tags": []
          },
          "execution_count": 117
        }
      ]
    },
    {
      "cell_type": "code",
      "metadata": {
        "id": "xhCc3bWe5FVo",
        "colab_type": "code",
        "colab": {
          "base_uri": "https://localhost:8080/",
          "height": 34
        },
        "outputId": "7db0128e-9f5f-48ca-83e3-13287daa71fd"
      },
      "source": [
        "1-norm.cdf(70,80,5) # görüldüğü üzere zaten ortalaması 80 olduğu için 70 den fazla olma olasığı çok fazla"
      ],
      "execution_count": 82,
      "outputs": [
        {
          "output_type": "execute_result",
          "data": {
            "text/plain": [
              "0.9772498680518208"
            ]
          },
          "metadata": {
            "tags": []
          },
          "execution_count": 82
        }
      ]
    },
    {
      "cell_type": "code",
      "metadata": {
        "id": "iw7BotMBacbf",
        "colab_type": "code",
        "colab": {
          "base_uri": "https://localhost:8080/",
          "height": 34
        },
        "outputId": "5b4c998d-55c5-479f-8405-02dbb6ddf691"
      },
      "source": [
        "norm.cdf(70,80,5) # Bu da 70'den az olma olasılığı."
      ],
      "execution_count": 119,
      "outputs": [
        {
          "output_type": "execute_result",
          "data": {
            "text/plain": [
              "0.022750131948179195"
            ]
          },
          "metadata": {
            "tags": []
          },
          "execution_count": 119
        }
      ]
    },
    {
      "cell_type": "markdown",
      "metadata": {
        "id": "4wzoOjC-5FVq",
        "colab_type": "text"
      },
      "source": [
        "norm.cdf(73,80,5) # buarada 1 den çıkarmadım böylece 73 den az olma olasılığını buldum."
      ]
    },
    {
      "cell_type": "code",
      "metadata": {
        "id": "9yu_mmkj5FVr",
        "colab_type": "code",
        "colab": {
          "base_uri": "https://localhost:8080/",
          "height": 34
        },
        "outputId": "faf6d4e2-4527-4de6-a732-59a26a1ca7ab"
      },
      "source": [
        "norm.cdf(90,80,5)-norm.cdf(80,80,5) # 90dan 80 çıkararak 90 ile 80 arasında olma olassılığını buldum. 90'dan az,(çıkardığımız için)80'den fazla"
      ],
      "execution_count": 121,
      "outputs": [
        {
          "output_type": "execute_result",
          "data": {
            "text/plain": [
              "0.4772498680518208"
            ]
          },
          "metadata": {
            "tags": []
          },
          "execution_count": 121
        }
      ]
    },
    {
      "cell_type": "markdown",
      "metadata": {
        "id": "q0a-rID55FVt",
        "colab_type": "text"
      },
      "source": [
        "# Tek Örneklem T Testi"
      ]
    },
    {
      "cell_type": "markdown",
      "metadata": {
        "id": "OS31-nZL5FVt",
        "colab_type": "text"
      },
      "source": [
        "Anlamlılık testi yapmak için kullanılır.Yani bir sonucun şansa bağlı olup olmamasını tartışıyoruz. t veya z belirli durumlara göre kullanılabilir. Ama genelde t testini tercih ederiz."
      ]
    },
    {
      "cell_type": "markdown",
      "metadata": {
        "id": "HA8UbJkM5FVu",
        "colab_type": "text"
      },
      "source": [
        "Parametrik bir testtir.Yani çeşitli vasrayımların sağlandığı durumda uygullanabilen testlerdir.\n",
        "\n",
        "Normal dağılım varsayımına bakılır. Normal dağılmışa yani varsayım sağlanıyorsa tek örneklem t testini uygulayabiliri."
      ]
    },
    {
      "cell_type": "code",
      "metadata": {
        "id": "K1Z9LyVX5FVv",
        "colab_type": "code",
        "colab": {}
      },
      "source": [
        "import numpy as np\n",
        "\n",
        "olcumler = np.array([17, 160, 234, 149, 145, 107, 197, 75, 201, 225, 211, 119, \n",
        "              157, 145, 127, 244, 163, 114, 145,  65, 112, 185, 202, 146,\n",
        "              203, 224, 203, 114, 188, 156, 187, 154, 177, 95, 165, 50, 110, \n",
        "              216, 138, 151, 166, 135, 155, 84, 251, 173, 131, 207, 121, 120])"
      ],
      "execution_count": 0,
      "outputs": []
    },
    {
      "cell_type": "code",
      "metadata": {
        "id": "SF9ZLT3n5FVx",
        "colab_type": "code",
        "colab": {
          "base_uri": "https://localhost:8080/",
          "height": 34
        },
        "outputId": "5b40e2f5-3e3b-4bab-9f52-821e3d357880"
      },
      "source": [
        "olcumler[0:10]"
      ],
      "execution_count": 137,
      "outputs": [
        {
          "output_type": "execute_result",
          "data": {
            "text/plain": [
              "array([ 17, 160, 234, 149, 145, 107, 197,  75, 201, 225])"
            ]
          },
          "metadata": {
            "tags": []
          },
          "execution_count": 137
        }
      ]
    },
    {
      "cell_type": "code",
      "metadata": {
        "id": "vKLv5WMx5FVz",
        "colab_type": "code",
        "colab": {}
      },
      "source": [
        "import scipy.stats as stats"
      ],
      "execution_count": 0,
      "outputs": []
    },
    {
      "cell_type": "code",
      "metadata": {
        "id": "AooYBIfW5FV1",
        "colab_type": "code",
        "colab": {
          "base_uri": "https://localhost:8080/",
          "height": 34
        },
        "outputId": "d5a882a3-b6df-4104-c10b-0c97642ec96d"
      },
      "source": [
        "stats.describe(olcumler) #ortalama 152 olduğu görülür.  "
      ],
      "execution_count": 139,
      "outputs": [
        {
          "output_type": "execute_result",
          "data": {
            "text/plain": [
              "DescribeResult(nobs=50, minmax=(17, 251), mean=154.38, variance=2578.0363265306123, skewness=-0.32398897278694483, kurtosis=-0.05849823498415985)"
            ]
          },
          "metadata": {
            "tags": []
          },
          "execution_count": 139
        }
      ]
    },
    {
      "cell_type": "code",
      "metadata": {
        "id": "ktIs1GwJ5FV6",
        "colab_type": "code",
        "colab": {}
      },
      "source": [
        "#varsayımlar \n",
        "#normallik varsayımı eğer sağlanırsa tek örneklem t testini yapabiliriz.."
      ],
      "execution_count": 0,
      "outputs": []
    },
    {
      "cell_type": "code",
      "metadata": {
        "id": "CQuxj_L15FV9",
        "colab_type": "code",
        "colab": {
          "base_uri": "https://localhost:8080/",
          "height": 282
        },
        "outputId": "4570f03b-f20f-4f92-efe9-71d5fd6b89a0"
      },
      "source": [
        "import pandas as pd\n",
        "pd.DataFrame(olcumler).plot.hist()"
      ],
      "execution_count": 141,
      "outputs": [
        {
          "output_type": "execute_result",
          "data": {
            "text/plain": [
              "<matplotlib.axes._subplots.AxesSubplot at 0x7f3bc7d9e550>"
            ]
          },
          "metadata": {
            "tags": []
          },
          "execution_count": 141
        },
        {
          "output_type": "display_data",
          "data": {
            "image/png": "[encoded data removed]",
            "text/plain": [
              "<Figure size 432x288 with 1 Axes>"
            ]
          },
          "metadata": {
            "tags": [],
            "needs_background": "light"
          }
        }
      ]
    },
    {
      "cell_type": "code",
      "metadata": {
        "id": "qfbyi9xo5FWD",
        "colab_type": "code",
        "colab": {
          "base_uri": "https://localhost:8080/",
          "height": 295
        },
        "outputId": "936c485a-529c-4f7c-e807-5c5e9c7d7203"
      },
      "source": [
        "import pylab \n",
        "stats.probplot(olcumler, dist=\"norm\",plot=pylab)\n",
        "pylab.show()\n",
        "#normallik görsel olarak görülmektedir. Aldanılmaya müsait.\n",
        "# bilgisayar veri normal mi değil mi diye bi kontrol yapar bu varsayımdır. eğer normalse varsayım sağlanır ve tek örrneklem t testini yapabilliriz."
      ],
      "execution_count": 142,
      "outputs": [
        {
          "output_type": "display_data",
          "data": {
            "image/png": "[encoded data removed]",
            "text/plain": [
              "<Figure size 432x288 with 1 Axes>"
            ]
          },
          "metadata": {
            "tags": [],
            "needs_background": "light"
          }
        }
      ]
    },
    {
      "cell_type": "code",
      "metadata": {
        "id": "y3dlzGsN5FWF",
        "colab_type": "code",
        "colab": {}
      },
      "source": [
        "#Shapiro-Wilks Testi"
      ],
      "execution_count": 0,
      "outputs": []
    },
    {
      "cell_type": "markdown",
      "metadata": {
        "id": "Myft-eTS5FWH",
        "colab_type": "text"
      },
      "source": [
        "H0: Örnek dağılım ile teorik dağlım arasında istatistiki olarak anlamlı bir fark yoktur.\n",
        "    \n",
        "H1: fark vardr.\n",
        "    \n",
        "    örnek dağılım örneğimizin dağılımmıdır.(152)\n",
        "    \n",
        "    teorik dağlım ilgilenmiş olduğumuz hipoteze ait  dağılımdır.(170 olsun)\n",
        "\n",
        "    burada sorguladığımız şey teorik olarak istenilen(170) değer ile örneğin gerçek değeri(152) arasında kayda değer fark var mıdır?\n",
        "\n",
        "    h0 hipotezi yoktuur der."
      ]
    },
    {
      "cell_type": "code",
      "metadata": {
        "id": "brKkHQe05FWH",
        "colab_type": "code",
        "colab": {}
      },
      "source": [
        "from  scipy.stats import shapiro"
      ],
      "execution_count": 0,
      "outputs": []
    },
    {
      "cell_type": "code",
      "metadata": {
        "id": "q1H9F5y05FWK",
        "colab_type": "code",
        "colab": {
          "base_uri": "https://localhost:8080/",
          "height": 34
        },
        "outputId": "50a64240-a6ca-48ea-b7c7-9491d9f08cd1"
      },
      "source": [
        "## VARSAYIM TESTİ\n",
        "\n",
        "shapiro(olcumler)\n",
        "# soldaki değer test istatistiğini, sağdki değer p value yi ifade eder.\n",
        "# bu durumda p value değerinden ötürü h0 ı reddedemiyoruz.\n",
        "# normallik dağlımını kontrol ettik ve p value>0,05 oldu. bu demek ki varsayım doğrulanır artık hipoteze geçebilirsin bu veri parametriktir.\n",
        "# biz normal dağlım varsayımını doğruladık şimdi 170 olarak kabul edip bunu test edeceğiz."
      ],
      "execution_count": 145,
      "outputs": [
        {
          "output_type": "execute_result",
          "data": {
            "text/plain": [
              "(0.9853105545043945, 0.7848747968673706)"
            ]
          },
          "metadata": {
            "tags": []
          },
          "execution_count": 145
        }
      ]
    },
    {
      "cell_type": "code",
      "metadata": {
        "id": "oM0QsgLl5FWM",
        "colab_type": "code",
        "colab": {}
      },
      "source": [
        "# varsayım doğrulandı bu veri parametrik tek örneklem t hipotez testine geçebiliriz.\n",
        "# eğer varsayım sağlanmasaydı nonparametrik denirdi ve bu testi yapamazdık.\n",
        "# Hipotez testinin uygulaması"
      ],
      "execution_count": 0,
      "outputs": []
    },
    {
      "cell_type": "code",
      "metadata": {
        "id": "bfV-Uwfp5FWO",
        "colab_type": "code",
        "colab": {
          "base_uri": "https://localhost:8080/",
          "height": 34
        },
        "outputId": "ec46e197-321a-4c5c-fe8a-e8a1ac7905df"
      },
      "source": [
        "#HİPOTEZ TESTi\n",
        "\n",
        "stats.ttest_1samp(olcumler, popmean = 170)\n",
        "\n",
        "# 170 hipotezini test edeceğiz.\n",
        "# hikayede geçen H0 hipotezi. ortalama 170 dir \n",
        "# H1: değldir.\n",
        "# hipotez reddedilir çünkü p value kabul edilebilir hata oranı olan 0.05'den küçüktür.\n",
        "# test sonucu yorumlandığında h0 hipotezi reddedilir. yani 170 ortalama anlamlı değildir."
      ],
      "execution_count": 149,
      "outputs": [
        {
          "output_type": "execute_result",
          "data": {
            "text/plain": [
              "Ttest_1sampResult(statistic=-2.1753117985877966, pvalue=0.034460415195071446)"
            ]
          },
          "metadata": {
            "tags": []
          },
          "execution_count": 149
        }
      ]
    },
    {
      "cell_type": "markdown",
      "metadata": {
        "id": "ZyvS0P3Q5FWQ",
        "colab_type": "text"
      },
      "source": [
        "## Nonparametrik Tek Örneklem T Testi"
      ]
    },
    {
      "cell_type": "markdown",
      "metadata": {
        "id": "btSK1fcv5FWQ",
        "colab_type": "text"
      },
      "source": [
        "Yaptığımız varsayım testi yani Shapiro-Wilks testi reddedilirse yani pvalue<0,05 ise hipotezimizi parametrik tek örneklem t testi yapamayız.\n",
        "\n",
        "Varsayım reddedildiğinde Nonparametrik tek  örneklem T testi  uygulanır."
      ]
    },
    {
      "cell_type": "code",
      "metadata": {
        "id": "z0dPgU-x5FWQ",
        "colab_type": "code",
        "colab": {}
      },
      "source": [
        "from statsmodels.stats.descriptivestats import sign_test \n",
        "#nonparametrik birçok test vardır mesela bu sign testi yani işaret testi"
      ],
      "execution_count": 0,
      "outputs": []
    },
    {
      "cell_type": "code",
      "metadata": {
        "id": "vIYhZZPi5FWS",
        "colab_type": "code",
        "colab": {
          "base_uri": "https://localhost:8080/",
          "height": 34
        },
        "outputId": "7d31ffc2-1767-40b0-e0b5-4dd51ab6ffa8"
      },
      "source": [
        "sign_test(olcumler, 170) # 0.05 den büyük yani reddedemiyoruz. 170'in anlamlı olduğunu söylüyor.\n",
        "# ancak bu sonuç yanıltıcıdır. Çünkü elimizdeki veri zaten parametriktir sadece nonparametrik testi de görmek istedik.\n",
        "# normallik varsayımı öncekinde sağlanmamış olsaydı bunu yapacaktık ancak zaten sağlanıyor."
      ],
      "execution_count": 153,
      "outputs": [
        {
          "output_type": "execute_result",
          "data": {
            "text/plain": [
              "(-7.0, 0.06490864707227219)"
            ]
          },
          "metadata": {
            "tags": []
          },
          "execution_count": 153
        }
      ]
    },
    {
      "cell_type": "markdown",
      "metadata": {
        "id": "7UXB8wXE5FWV",
        "colab_type": "text"
      },
      "source": [
        "# Tek Örneklem Oran Testi"
      ]
    },
    {
      "cell_type": "markdown",
      "metadata": {
        "id": "_yBcpV1B5FWV",
        "colab_type": "text"
      },
      "source": [
        "oransal bir ifade test edilmek istenmektedir.\n",
        "\n",
        "örneklemin dönüşüm oranı: 0,08 (örneğin bir ürünü 100 kişi gördü 8 kişi aldı)\n",
        " \n",
        "H0:P=0,125\n",
        "\n",
        "H1:P!=0,125\n",
        "\n",
        "n = 500\n",
        "\n",
        "tıklama sayısı=40\n",
        "\n"
      ]
    },
    {
      "cell_type": "code",
      "metadata": {
        "id": "RINib6tt5FWV",
        "colab_type": "code",
        "colab": {}
      },
      "source": [
        "from statsmodels.stats.proportion import proportions_ztest"
      ],
      "execution_count": 0,
      "outputs": []
    },
    {
      "cell_type": "code",
      "metadata": {
        "id": "bn9Dz9de5FWY",
        "colab_type": "code",
        "colab": {}
      },
      "source": [
        "count = 40 # argüman isimi başarı sayısı\n",
        "nobs = 500 # toplam deneme \n",
        "value = 0.125 # hipotez değeri"
      ],
      "execution_count": 0,
      "outputs": []
    },
    {
      "cell_type": "code",
      "metadata": {
        "id": "SCxyZPUH5FWb",
        "colab_type": "code",
        "colab": {
          "base_uri": "https://localhost:8080/",
          "height": 34
        },
        "outputId": "adf49a1a-e430-460c-829f-834ef9cfcc4f"
      },
      "source": [
        "proportions_ztest(count,nobs,value) # pvalue<0,05   H0 hipotezi reddedilir. burda 0,125  ddönüşüm oranı olmadığını %95 güvenilirlikle kanıtlarız."
      ],
      "execution_count": 158,
      "outputs": [
        {
          "output_type": "execute_result",
          "data": {
            "text/plain": [
              "(-3.7090151628513017, 0.0002080669689845979)"
            ]
          },
          "metadata": {
            "tags": []
          },
          "execution_count": 158
        }
      ]
    },
    {
      "cell_type": "markdown",
      "metadata": {
        "id": "a2Q7R9pJ5FWi",
        "colab_type": "text"
      },
      "source": [
        "## İki Örneklem Oran Testi"
      ]
    },
    {
      "cell_type": "markdown",
      "metadata": {
        "id": "kD-U-gbH0-w5",
        "colab_type": "text"
      },
      "source": [
        "varsayımlar: normallik, varyans homojenliği"
      ]
    },
    {
      "cell_type": "code",
      "metadata": {
        "id": "m6KyFC8C5FWi",
        "colab_type": "code",
        "colab": {}
      },
      "source": [
        "import pandas as pd\n",
        "import numpy as np\n",
        "from statsmodels.stats.proportion import proportions_ztest"
      ],
      "execution_count": 0,
      "outputs": []
    },
    {
      "cell_type": "code",
      "metadata": {
        "id": "Ye82wwiC5FWl",
        "colab_type": "code",
        "colab": {}
      },
      "source": [
        "basari_sayisi = np.array([300,250])\n",
        "gozlem_sayilari = np.array([1000,1100,])"
      ],
      "execution_count": 0,
      "outputs": []
    },
    {
      "cell_type": "code",
      "metadata": {
        "id": "uSJBsRlp5FWp",
        "colab_type": "code",
        "colab": {}
      },
      "source": [
        " proportions_ztest(count=basari_sayisi,nobs = gozlem_sayilari)"
      ],
      "execution_count": 0,
      "outputs": []
    },
    {
      "cell_type": "markdown",
      "metadata": {
        "id": "IP5azpLM5FWr",
        "colab_type": "text"
      },
      "source": [
        "## Varyans Analizi"
      ]
    },
    {
      "cell_type": "code",
      "metadata": {
        "id": "QCDjIMMT5FWr",
        "colab_type": "code",
        "colab": {
          "base_uri": "https://localhost:8080/",
          "height": 328
        },
        "outputId": "cf63d214-d9a8-407d-f79d-6ecdd1b62ae6"
      },
      "source": [
        "import pandas as pd\n",
        "\n",
        "A = pd.DataFrame([28,33,30,32,31,27,28,23,30])\n",
        "B = pd.DataFrame([31,32,30,33,34,27,35,35,28])\n",
        "C = pd.DataFrame([40,33,38,41,42,38,40,36,40])\n",
        "\n",
        "dfs = [A,B,C]\n",
        "\n",
        "ABC = pd.concat(dfs, axis = 1)\n",
        "ABC.columns = [\"GRUP_A\",\"GRUP_B\",\"GRUP_C\"]\n",
        "ABC # Veri Seti oluşturduk.  A şartlarında B şartlarında C Şartlarında  web sitesine tıklanma sayıları olsun."
      ],
      "execution_count": 160,
      "outputs": [
        {
          "output_type": "execute_result",
          "data": {
            "text/html": [
              "<div>\n",
              "<style scoped>\n",
              "    .dataframe tbody tr th:only-of-type {\n",
              "        vertical-align: middle;\n",
              "    }\n",
              "\n",
              "    .dataframe tbody tr th {\n",
              "        vertical-align: top;\n",
              "    }\n",
              "\n",
              "    .dataframe thead th {\n",
              "        text-align: right;\n",
              "    }\n",
              "</style>\n",
              "<table border=\"1\" class=\"dataframe\">\n",
              "  <thead>\n",
              "    <tr style=\"text-align: right;\">\n",
              "      <th></th>\n",
              "      <th>GRUP_A</th>\n",
              "      <th>GRUP_B</th>\n",
              "      <th>GRUP_C</th>\n",
              "    </tr>\n",
              "  </thead>\n",
              "  <tbody>\n",
              "    <tr>\n",
              "      <th>0</th>\n",
              "      <td>28</td>\n",
              "      <td>31</td>\n",
              "      <td>40</td>\n",
              "    </tr>\n",
              "    <tr>\n",
              "      <th>1</th>\n",
              "      <td>33</td>\n",
              "      <td>32</td>\n",
              "      <td>33</td>\n",
              "    </tr>\n",
              "    <tr>\n",
              "      <th>2</th>\n",
              "      <td>30</td>\n",
              "      <td>30</td>\n",
              "      <td>38</td>\n",
              "    </tr>\n",
              "    <tr>\n",
              "      <th>3</th>\n",
              "      <td>32</td>\n",
              "      <td>33</td>\n",
              "      <td>41</td>\n",
              "    </tr>\n",
              "    <tr>\n",
              "      <th>4</th>\n",
              "      <td>31</td>\n",
              "      <td>34</td>\n",
              "      <td>42</td>\n",
              "    </tr>\n",
              "    <tr>\n",
              "      <th>5</th>\n",
              "      <td>27</td>\n",
              "      <td>27</td>\n",
              "      <td>38</td>\n",
              "    </tr>\n",
              "    <tr>\n",
              "      <th>6</th>\n",
              "      <td>28</td>\n",
              "      <td>35</td>\n",
              "      <td>40</td>\n",
              "    </tr>\n",
              "    <tr>\n",
              "      <th>7</th>\n",
              "      <td>23</td>\n",
              "      <td>35</td>\n",
              "      <td>36</td>\n",
              "    </tr>\n",
              "    <tr>\n",
              "      <th>8</th>\n",
              "      <td>30</td>\n",
              "      <td>28</td>\n",
              "      <td>40</td>\n",
              "    </tr>\n",
              "  </tbody>\n",
              "</table>\n",
              "</div>"
            ],
            "text/plain": [
              "   GRUP_A  GRUP_B  GRUP_C\n",
              "0      28      31      40\n",
              "1      33      32      33\n",
              "2      30      30      38\n",
              "3      32      33      41\n",
              "4      31      34      42\n",
              "5      27      27      38\n",
              "6      28      35      40\n",
              "7      23      35      36\n",
              "8      30      28      40"
            ]
          },
          "metadata": {
            "tags": []
          },
          "execution_count": 160
        }
      ]
    },
    {
      "cell_type": "code",
      "metadata": {
        "id": "udC4QvTF5FWu",
        "colab_type": "code",
        "colab": {}
      },
      "source": [
        "#VARSAYIMLAR\n",
        "\n",
        "# grupların bağımsız olması(evet öyle)\n",
        "# normal dağılması (shapirowilks testi)\n",
        "# varyans homojenliği (levene testi)  "
      ],
      "execution_count": 0,
      "outputs": []
    },
    {
      "cell_type": "code",
      "metadata": {
        "id": "s7zUeq9D5FWy",
        "colab_type": "code",
        "colab": {}
      },
      "source": [
        "\n",
        "from scipy.stats import shapiro\n",
        "from scipy import stats"
      ],
      "execution_count": 0,
      "outputs": []
    },
    {
      "cell_type": "code",
      "metadata": {
        "id": "sESloToY5FW1",
        "colab_type": "code",
        "colab": {
          "base_uri": "https://localhost:8080/",
          "height": 34
        },
        "outputId": "7d8a7edb-13b1-493c-95c5-e85f86c881c1"
      },
      "source": [
        "shapiro(ABC[\"GRUP_A\"]) # kabul"
      ],
      "execution_count": 164,
      "outputs": [
        {
          "output_type": "execute_result",
          "data": {
            "text/plain": [
              "(0.9434921741485596, 0.619102418422699)"
            ]
          },
          "metadata": {
            "tags": []
          },
          "execution_count": 164
        }
      ]
    },
    {
      "cell_type": "code",
      "metadata": {
        "id": "LM6r51Nq5FW5",
        "colab_type": "code",
        "colab": {
          "base_uri": "https://localhost:8080/",
          "height": 34
        },
        "outputId": "32f7c253-29a6-4c7c-dacb-b3ee0c5c5abf"
      },
      "source": [
        "shapiro(ABC[\"GRUP_B\"]) # kabul"
      ],
      "execution_count": 166,
      "outputs": [
        {
          "output_type": "execute_result",
          "data": {
            "text/plain": [
              "(0.93229740858078, 0.503524899482727)"
            ]
          },
          "metadata": {
            "tags": []
          },
          "execution_count": 166
        }
      ]
    },
    {
      "cell_type": "code",
      "metadata": {
        "id": "_5-tYPLW5FW7",
        "colab_type": "code",
        "colab": {
          "base_uri": "https://localhost:8080/",
          "height": 34
        },
        "outputId": "e2904e8b-2dfb-4d18-a630-ea7e1fb34d20"
      },
      "source": [
        "shapiro(ABC[\"GRUP_C\"]) # normallik hipotezi doğrulandı."
      ],
      "execution_count": 168,
      "outputs": [
        {
          "output_type": "execute_result",
          "data": {
            "text/plain": [
              "(0.9086995124816895, 0.30687883496284485)"
            ]
          },
          "metadata": {
            "tags": []
          },
          "execution_count": 168
        }
      ]
    },
    {
      "cell_type": "code",
      "metadata": {
        "id": "NRxDYJM15FW-",
        "colab_type": "code",
        "colab": {
          "base_uri": "https://localhost:8080/",
          "height": 34
        },
        "outputId": "d3b47814-490a-4bca-9c8e-686eaaf6dc40"
      },
      "source": [
        "stats.levene(ABC[\"GRUP_A\"], ABC[\"GRUP_B\"], ABC[\"GRUP_C\"]) # varyans homojeenliği varsayımı doğrulanır."
      ],
      "execution_count": 169,
      "outputs": [
        {
          "output_type": "execute_result",
          "data": {
            "text/plain": [
              "LeveneResult(statistic=0.0637813211845103, pvalue=0.93836862474404)"
            ]
          },
          "metadata": {
            "tags": []
          },
          "execution_count": 169
        }
      ]
    },
    {
      "cell_type": "code",
      "metadata": {
        "id": "ZJipakrS5FXB",
        "colab_type": "code",
        "colab": {}
      },
      "source": [
        "from scipy.stats import f_oneway # varyans analizi ile hipotezi test etmek için f_oneway ekledik"
      ],
      "execution_count": 0,
      "outputs": []
    },
    {
      "cell_type": "code",
      "metadata": {
        "id": "yhQXLPD65FXC",
        "colab_type": "code",
        "colab": {
          "base_uri": "https://localhost:8080/",
          "height": 34
        },
        "outputId": "1c2626b2-5c01-4a2b-85c8-602467242ffc"
      },
      "source": [
        "f_oneway(ABC[\"GRUP_A\"], ABC[\"GRUP_B\"], ABC[\"GRUP_C\"]) # varyans analizi yaptık\n",
        "print('{:.1f}'.format(f_oneway(ABC[\"GRUP_A\"], ABC[\"GRUP_B\"], ABC[\"GRUP_C\"])[1])) # daha düzenli bir formata getirdik..\n",
        "# h0 ı reddederiz yani  3 arasında bir fark yok diyen hipotezi reddettik böylece 3 ü arasında istatistiksel anlamda anlamı bir fark vardır deriz."
      ],
      "execution_count": 171,
      "outputs": [
        {
          "output_type": "stream",
          "text": [
            "0.0\n"
          ],
          "name": "stdout"
        }
      ]
    },
    {
      "cell_type": "code",
      "metadata": {
        "id": "gwtNejES5FXD",
        "colab_type": "code",
        "colab": {}
      },
      "source": [
        "ABC.describe().T\n",
        "# aralarında fark olduğunu kanıtladığımızda hangisinin lehinee fark olduğu zaten eğilim ölçülerine bakınca belli oluyor.."
      ],
      "execution_count": 0,
      "outputs": []
    },
    {
      "cell_type": "code",
      "metadata": {
        "id": "QGaWoFfB5FXF",
        "colab_type": "code",
        "colab": {}
      },
      "source": [
        "# eğer varsayımlar sağlanmasaydı( normallik, varyans homojenliği) sağlanmasaydı nonparametrik varyans analizi testi yapacaktık."
      ],
      "execution_count": 0,
      "outputs": []
    },
    {
      "cell_type": "code",
      "metadata": {
        "id": "LK8EGFvA5FXI",
        "colab_type": "code",
        "colab": {}
      },
      "source": [
        "from scipy.stats import kruskal"
      ],
      "execution_count": 0,
      "outputs": []
    },
    {
      "cell_type": "code",
      "metadata": {
        "id": "Ah6l1KuN5FXL",
        "colab_type": "code",
        "colab": {
          "base_uri": "https://localhost:8080/",
          "height": 34
        },
        "outputId": "0e2cc4ee-3099-4ae1-8851-15bca549ba49"
      },
      "source": [
        "kruskal(ABC[\"GRUP_A\"], ABC[\"GRUP_B\"], ABC[\"GRUP_C\"])"
      ],
      "execution_count": 174,
      "outputs": [
        {
          "output_type": "execute_result",
          "data": {
            "text/plain": [
              "KruskalResult(statistic=17.206417477385195, pvalue=0.00018351599304799017)"
            ]
          },
          "metadata": {
            "tags": []
          },
          "execution_count": 174
        }
      ]
    },
    {
      "cell_type": "markdown",
      "metadata": {
        "id": "wgcvKgtS5FXN",
        "colab_type": "text"
      },
      "source": [
        "# Korelasyon Analizi"
      ]
    },
    {
      "cell_type": "code",
      "metadata": {
        "id": "A5AY4k5y5FXN",
        "colab_type": "code",
        "colab": {
          "base_uri": "https://localhost:8080/",
          "height": 204
        },
        "outputId": "736c4f65-751a-47ed-b34e-8fcbad0cb826"
      },
      "source": [
        "import seaborn as sns\n",
        "tips = sns.load_dataset(\"tips\")\n",
        "df = tips.copy()\n",
        "df.head()"
      ],
      "execution_count": 175,
      "outputs": [
        {
          "output_type": "execute_result",
          "data": {
            "text/html": [
              "<div>\n",
              "<style scoped>\n",
              "    .dataframe tbody tr th:only-of-type {\n",
              "        vertical-align: middle;\n",
              "    }\n",
              "\n",
              "    .dataframe tbody tr th {\n",
              "        vertical-align: top;\n",
              "    }\n",
              "\n",
              "    .dataframe thead th {\n",
              "        text-align: right;\n",
              "    }\n",
              "</style>\n",
              "<table border=\"1\" class=\"dataframe\">\n",
              "  <thead>\n",
              "    <tr style=\"text-align: right;\">\n",
              "      <th></th>\n",
              "      <th>total_bill</th>\n",
              "      <th>tip</th>\n",
              "      <th>sex</th>\n",
              "      <th>smoker</th>\n",
              "      <th>day</th>\n",
              "      <th>time</th>\n",
              "      <th>size</th>\n",
              "    </tr>\n",
              "  </thead>\n",
              "  <tbody>\n",
              "    <tr>\n",
              "      <th>0</th>\n",
              "      <td>16.99</td>\n",
              "      <td>1.01</td>\n",
              "      <td>Female</td>\n",
              "      <td>No</td>\n",
              "      <td>Sun</td>\n",
              "      <td>Dinner</td>\n",
              "      <td>2</td>\n",
              "    </tr>\n",
              "    <tr>\n",
              "      <th>1</th>\n",
              "      <td>10.34</td>\n",
              "      <td>1.66</td>\n",
              "      <td>Male</td>\n",
              "      <td>No</td>\n",
              "      <td>Sun</td>\n",
              "      <td>Dinner</td>\n",
              "      <td>3</td>\n",
              "    </tr>\n",
              "    <tr>\n",
              "      <th>2</th>\n",
              "      <td>21.01</td>\n",
              "      <td>3.50</td>\n",
              "      <td>Male</td>\n",
              "      <td>No</td>\n",
              "      <td>Sun</td>\n",
              "      <td>Dinner</td>\n",
              "      <td>3</td>\n",
              "    </tr>\n",
              "    <tr>\n",
              "      <th>3</th>\n",
              "      <td>23.68</td>\n",
              "      <td>3.31</td>\n",
              "      <td>Male</td>\n",
              "      <td>No</td>\n",
              "      <td>Sun</td>\n",
              "      <td>Dinner</td>\n",
              "      <td>2</td>\n",
              "    </tr>\n",
              "    <tr>\n",
              "      <th>4</th>\n",
              "      <td>24.59</td>\n",
              "      <td>3.61</td>\n",
              "      <td>Female</td>\n",
              "      <td>No</td>\n",
              "      <td>Sun</td>\n",
              "      <td>Dinner</td>\n",
              "      <td>4</td>\n",
              "    </tr>\n",
              "  </tbody>\n",
              "</table>\n",
              "</div>"
            ],
            "text/plain": [
              "   total_bill   tip     sex smoker  day    time  size\n",
              "0       16.99  1.01  Female     No  Sun  Dinner     2\n",
              "1       10.34  1.66    Male     No  Sun  Dinner     3\n",
              "2       21.01  3.50    Male     No  Sun  Dinner     3\n",
              "3       23.68  3.31    Male     No  Sun  Dinner     2\n",
              "4       24.59  3.61  Female     No  Sun  Dinner     4"
            ]
          },
          "metadata": {
            "tags": []
          },
          "execution_count": 175
        }
      ]
    },
    {
      "cell_type": "code",
      "metadata": {
        "id": "tQ_ADz2f5FXS",
        "colab_type": "code",
        "colab": {}
      },
      "source": [
        "# tip yani bahşiş ile toplam fatura yani total_bill arasında ilişki var mı yok mu bu soruya korelasyon analizi ile cevap arayacağız.\n",
        "# bu tarzilişkiler incelendiğinde önceelikle değişkenlerin birbirnine etkileri giderilmelidir.\n",
        "# bu veri setinde total_bill tip i de kapsadığı  için bu durumu gidermeliyiz.\n",
        "# H0 hipotezi: aralarında bir korelasyon yoktur.\n",
        "# H1 hipotezi: aralarında korelasyon vardır."
      ],
      "execution_count": 0,
      "outputs": []
    },
    {
      "cell_type": "code",
      "metadata": {
        "id": "3FmEUAGw5FXV",
        "colab_type": "code",
        "colab": {}
      },
      "source": [
        "df[\"total_bill\"] = df[\"total_bill\"]- df[\"tip\"] # total_billiden bahşişi çıkararak veriyi arındırdık."
      ],
      "execution_count": 0,
      "outputs": []
    },
    {
      "cell_type": "code",
      "metadata": {
        "id": "gk9_hMAX5FXX",
        "colab_type": "code",
        "colab": {
          "base_uri": "https://localhost:8080/",
          "height": 204
        },
        "outputId": "4b384fb2-787a-4953-c049-18add4e904b9"
      },
      "source": [
        "df.head()"
      ],
      "execution_count": 179,
      "outputs": [
        {
          "output_type": "execute_result",
          "data": {
            "text/html": [
              "<div>\n",
              "<style scoped>\n",
              "    .dataframe tbody tr th:only-of-type {\n",
              "        vertical-align: middle;\n",
              "    }\n",
              "\n",
              "    .dataframe tbody tr th {\n",
              "        vertical-align: top;\n",
              "    }\n",
              "\n",
              "    .dataframe thead th {\n",
              "        text-align: right;\n",
              "    }\n",
              "</style>\n",
              "<table border=\"1\" class=\"dataframe\">\n",
              "  <thead>\n",
              "    <tr style=\"text-align: right;\">\n",
              "      <th></th>\n",
              "      <th>total_bill</th>\n",
              "      <th>tip</th>\n",
              "      <th>sex</th>\n",
              "      <th>smoker</th>\n",
              "      <th>day</th>\n",
              "      <th>time</th>\n",
              "      <th>size</th>\n",
              "    </tr>\n",
              "  </thead>\n",
              "  <tbody>\n",
              "    <tr>\n",
              "      <th>0</th>\n",
              "      <td>15.98</td>\n",
              "      <td>1.01</td>\n",
              "      <td>Female</td>\n",
              "      <td>No</td>\n",
              "      <td>Sun</td>\n",
              "      <td>Dinner</td>\n",
              "      <td>2</td>\n",
              "    </tr>\n",
              "    <tr>\n",
              "      <th>1</th>\n",
              "      <td>8.68</td>\n",
              "      <td>1.66</td>\n",
              "      <td>Male</td>\n",
              "      <td>No</td>\n",
              "      <td>Sun</td>\n",
              "      <td>Dinner</td>\n",
              "      <td>3</td>\n",
              "    </tr>\n",
              "    <tr>\n",
              "      <th>2</th>\n",
              "      <td>17.51</td>\n",
              "      <td>3.50</td>\n",
              "      <td>Male</td>\n",
              "      <td>No</td>\n",
              "      <td>Sun</td>\n",
              "      <td>Dinner</td>\n",
              "      <td>3</td>\n",
              "    </tr>\n",
              "    <tr>\n",
              "      <th>3</th>\n",
              "      <td>20.37</td>\n",
              "      <td>3.31</td>\n",
              "      <td>Male</td>\n",
              "      <td>No</td>\n",
              "      <td>Sun</td>\n",
              "      <td>Dinner</td>\n",
              "      <td>2</td>\n",
              "    </tr>\n",
              "    <tr>\n",
              "      <th>4</th>\n",
              "      <td>20.98</td>\n",
              "      <td>3.61</td>\n",
              "      <td>Female</td>\n",
              "      <td>No</td>\n",
              "      <td>Sun</td>\n",
              "      <td>Dinner</td>\n",
              "      <td>4</td>\n",
              "    </tr>\n",
              "  </tbody>\n",
              "</table>\n",
              "</div>"
            ],
            "text/plain": [
              "   total_bill   tip     sex smoker  day    time  size\n",
              "0       15.98  1.01  Female     No  Sun  Dinner     2\n",
              "1        8.68  1.66    Male     No  Sun  Dinner     3\n",
              "2       17.51  3.50    Male     No  Sun  Dinner     3\n",
              "3       20.37  3.31    Male     No  Sun  Dinner     2\n",
              "4       20.98  3.61  Female     No  Sun  Dinner     4"
            ]
          },
          "metadata": {
            "tags": []
          },
          "execution_count": 179
        }
      ]
    },
    {
      "cell_type": "code",
      "metadata": {
        "id": "eVoo95fO5FXZ",
        "colab_type": "code",
        "colab": {
          "base_uri": "https://localhost:8080/",
          "height": 279
        },
        "outputId": "b7bf888f-aa27-44da-f853-3855612a2c4b"
      },
      "source": [
        "df.plot.scatter(\"tip\",\"total_bill\"); # aralarındaki korelasyon ilişkisini görselleştirdik."
      ],
      "execution_count": 180,
      "outputs": [
        {
          "output_type": "display_data",
          "data": {
            "image/png": "[encoded data removed]",
            "text/plain": [
              "<Figure size 432x288 with 1 Axes>"
            ]
          },
          "metadata": {
            "tags": [],
            "needs_background": "light"
          }
        }
      ]
    },
    {
      "cell_type": "code",
      "metadata": {
        "id": "39GJAs7k5FXb",
        "colab_type": "code",
        "colab": {}
      },
      "source": [
        "# Varsayım kontrolü yapacağız..."
      ],
      "execution_count": 0,
      "outputs": []
    },
    {
      "cell_type": "code",
      "metadata": {
        "id": "2C-6vGoL5FXc",
        "colab_type": "code",
        "colab": {}
      },
      "source": [
        "# Normmallik varsayımı\n"
      ],
      "execution_count": 0,
      "outputs": []
    },
    {
      "cell_type": "code",
      "metadata": {
        "id": "wc7RPx-O5FXe",
        "colab_type": "code",
        "colab": {}
      },
      "source": [
        "from scipy.stats import shapiro"
      ],
      "execution_count": 0,
      "outputs": []
    },
    {
      "cell_type": "code",
      "metadata": {
        "id": "nr76a7mv5FXg",
        "colab_type": "code",
        "colab": {
          "base_uri": "https://localhost:8080/",
          "height": 34
        },
        "outputId": "973cdf1e-ad9f-4ed0-92c2-59b511a2c2b5"
      },
      "source": [
        "shapiro(df[\"tip\"]) #sağlanmıyor."
      ],
      "execution_count": 185,
      "outputs": [
        {
          "output_type": "execute_result",
          "data": {
            "text/plain": [
              "(0.897811233997345, 8.20057563521992e-12)"
            ]
          },
          "metadata": {
            "tags": []
          },
          "execution_count": 185
        }
      ]
    },
    {
      "cell_type": "code",
      "metadata": {
        "id": "_qGWmmo95FXi",
        "colab_type": "code",
        "colab": {
          "base_uri": "https://localhost:8080/",
          "height": 34
        },
        "outputId": "e0ea1ad2-b628-4f6d-d9c6-c7f673c3c233"
      },
      "source": [
        "shapiro(df[\"total_bill\"]) # sağlanmıyor."
      ],
      "execution_count": 186,
      "outputs": [
        {
          "output_type": "execute_result",
          "data": {
            "text/plain": [
              "(0.9135652184486389, 1.1060377613780759e-10)"
            ]
          },
          "metadata": {
            "tags": []
          },
          "execution_count": 186
        }
      ]
    },
    {
      "cell_type": "code",
      "metadata": {
        "id": "umRB92AZ5FXj",
        "colab_type": "code",
        "colab": {}
      },
      "source": [
        "#normallik varsayımı reddedilir.\n",
        "# bu durumda nonparametrik olan spearman katsayısı uygulanmalıdır.\n",
        "# eğer varsayım reddedilmeseydi parametrik bir yöntem olan pearson katsayısı uygulayacaktık.\n",
        "# daha sonra korelasyon anlamlı mı değil mi bunu ölçmek için t testini gerçekleştireceğiz."
      ],
      "execution_count": 0,
      "outputs": []
    },
    {
      "cell_type": "code",
      "metadata": {
        "id": "tBygY7225FXn",
        "colab_type": "code",
        "colab": {}
      },
      "source": [
        "# örnek olması açısından parametrik olan pearson katsayısını da yapalım."
      ],
      "execution_count": 0,
      "outputs": []
    },
    {
      "cell_type": "code",
      "metadata": {
        "id": "ivZwgf0G5FXr",
        "colab_type": "code",
        "colab": {
          "base_uri": "https://localhost:8080/",
          "height": 34
        },
        "outputId": "cf0b14bf-3807-4d3d-d929-1cf84b586599"
      },
      "source": [
        "df[\"tip\"].corr(df[\"total_bill\"], method= \"spearman\")\n",
        "#parametrik yni pearson katsayısını elde ettik. corr fonksiyonu ön tanımlı olarak bize pearsonn katsayısını verir.\n",
        "# method argümanına spearman ekleyerek spearmn katsayısını alabiliriz.\n",
        "# yorum: elimizde poitif yönlü çok düşük bir kolrasyon var."
      ],
      "execution_count": 191,
      "outputs": [
        {
          "output_type": "execute_result",
          "data": {
            "text/plain": [
              "0.593691939408997"
            ]
          },
          "metadata": {
            "tags": []
          },
          "execution_count": 191
        }
      ]
    },
    {
      "cell_type": "code",
      "metadata": {
        "id": "JXi-NmIb5FXt",
        "colab_type": "code",
        "colab": {}
      },
      "source": [
        "# peki kolerasyon anlamlı mı bunnu t testi ille alacağız."
      ],
      "execution_count": 0,
      "outputs": []
    },
    {
      "cell_type": "code",
      "metadata": {
        "id": "k4cokmW45FXw",
        "colab_type": "code",
        "colab": {}
      },
      "source": [
        "from scipy.stats.stats import pearsonr # parametrik olan pearson  göre yapalım bi önce"
      ],
      "execution_count": 0,
      "outputs": []
    },
    {
      "cell_type": "code",
      "metadata": {
        "id": "IrDHo9sY5FXy",
        "colab_type": "code",
        "colab": {
          "base_uri": "https://localhost:8080/",
          "height": 34
        },
        "outputId": "7fc2c796-f2b3-4d86-f36b-108670f1fe8c"
      },
      "source": [
        "pearsonr(df[\"tip\"], df[\"total_bill\"])\n",
        "# değişkenler arasında ilişki yoktur diyen H0 hipotezini reddediyoruz.\n",
        "# yani düşük de olsa iki değişken arasında kolerasyon var."
      ],
      "execution_count": 194,
      "outputs": [
        {
          "output_type": "execute_result",
          "data": {
            "text/plain": [
              "(0.5766634471096381, 5.018290084948419e-23)"
            ]
          },
          "metadata": {
            "tags": []
          },
          "execution_count": 194
        }
      ]
    },
    {
      "cell_type": "code",
      "metadata": {
        "id": "-b5UFJ8k5FX0",
        "colab_type": "code",
        "colab": {}
      },
      "source": [
        ""
      ],
      "execution_count": 0,
      "outputs": []
    },
    {
      "cell_type": "code",
      "metadata": {
        "id": "rPpTFB2l5FX1",
        "colab_type": "code",
        "colab": {
          "base_uri": "https://localhost:8080/",
          "height": 34
        },
        "outputId": "3a9cb3d3-290f-4c99-f135-84035a9a3502"
      },
      "source": [
        "stats.spearmanr(df[\"tip\"], df[\"total_bill\"])\n",
        "# değişkenler arasında ilişki yoktur diyen H0 hipotezini reddediyoruz.\n",
        "# yani düşük de olsa iki değişken arasında pozitif korelasyon var."
      ],
      "execution_count": 197,
      "outputs": [
        {
          "output_type": "execute_result",
          "data": {
            "text/plain": [
              "SpearmanrResult(correlation=0.593691939408997, pvalue=1.2452285137560276e-24)"
            ]
          },
          "metadata": {
            "tags": []
          },
          "execution_count": 197
        }
      ]
    },
    {
      "cell_type": "code",
      "metadata": {
        "id": "Ko4IBkGh5FX4",
        "colab_type": "code",
        "colab": {
          "base_uri": "https://localhost:8080/",
          "height": 34
        },
        "outputId": "990219f5-42f2-452f-cc47-687e1461f817"
      },
      "source": [
        "stats.kendalltau(df[\"tip\"], df[\"total_bill\"])\n",
        "# kendalltau da bir başka nonparametrik ttesttir spearmanın altarnatifidir. kullanılabilir."
      ],
      "execution_count": 198,
      "outputs": [
        {
          "output_type": "execute_result",
          "data": {
            "text/plain": [
              "KendalltauResult(correlation=0.4400790074919885, pvalue=7.131027725873721e-24)"
            ]
          },
          "metadata": {
            "tags": []
          },
          "execution_count": 198
        }
      ]
    },
    {
      "cell_type": "code",
      "metadata": {
        "id": "GVjTnE5O5FX6",
        "colab_type": "code",
        "colab": {}
      },
      "source": [
        ""
      ],
      "execution_count": 0,
      "outputs": []
    },
    {
      "cell_type": "code",
      "metadata": {
        "id": "DOHsUsad5FX8",
        "colab_type": "code",
        "colab": {}
      },
      "source": [
        ""
      ],
      "execution_count": 0,
      "outputs": []
    },
    {
      "cell_type": "code",
      "metadata": {
        "id": "GCWexzaO5FX-",
        "colab_type": "code",
        "colab": {}
      },
      "source": [
        ""
      ],
      "execution_count": 0,
      "outputs": []
    },
    {
      "cell_type": "code",
      "metadata": {
        "id": "Di8cN4R85FYA",
        "colab_type": "code",
        "colab": {}
      },
      "source": [
        ""
      ],
      "execution_count": 0,
      "outputs": []
    },
    {
      "cell_type": "code",
      "metadata": {
        "id": "QJfIJz4G5FYB",
        "colab_type": "code",
        "colab": {}
      },
      "source": [
        ""
      ],
      "execution_count": 0,
      "outputs": []
    },
    {
      "cell_type": "code",
      "metadata": {
        "id": "3sKzq9bP5FYD",
        "colab_type": "code",
        "colab": {}
      },
      "source": [
        ""
      ],
      "execution_count": 0,
      "outputs": []
    },
    {
      "cell_type": "code",
      "metadata": {
        "id": "FOj5mze15FYE",
        "colab_type": "code",
        "colab": {}
      },
      "source": [
        ""
      ],
      "execution_count": 0,
      "outputs": []
    },
    {
      "cell_type": "code",
      "metadata": {
        "id": "1ZC3jpZf5FYK",
        "colab_type": "code",
        "colab": {}
      },
      "source": [
        ""
      ],
      "execution_count": 0,
      "outputs": []
    },
    {
      "cell_type": "code",
      "metadata": {
        "id": "ZbUCHcNl5FYL",
        "colab_type": "code",
        "colab": {}
      },
      "source": [
        ""
      ],
      "execution_count": 0,
      "outputs": []
    },
    {
      "cell_type": "code",
      "metadata": {
        "id": "iF1_nqNZ5FYN",
        "colab_type": "code",
        "colab": {}
      },
      "source": [
        ""
      ],
      "execution_count": 0,
      "outputs": []
    },
    {
      "cell_type": "code",
      "metadata": {
        "id": "rE5-YjjT5FYO",
        "colab_type": "code",
        "colab": {}
      },
      "source": [
        ""
      ],
      "execution_count": 0,
      "outputs": []
    },
    {
      "cell_type": "code",
      "metadata": {
        "id": "shklwxfu5FYR",
        "colab_type": "code",
        "colab": {}
      },
      "source": [
        ""
      ],
      "execution_count": 0,
      "outputs": []
    },
    {
      "cell_type": "code",
      "metadata": {
        "id": "ID3jWgJV5FYT",
        "colab_type": "code",
        "colab": {}
      },
      "source": [
        ""
      ],
      "execution_count": 0,
      "outputs": []
    },
    {
      "cell_type": "code",
      "metadata": {
        "id": "sCWyn-DG5FYV",
        "colab_type": "code",
        "colab": {}
      },
      "source": [
        ""
      ],
      "execution_count": 0,
      "outputs": []
    },
    {
      "cell_type": "code",
      "metadata": {
        "id": "_FFVbZ1J5FYW",
        "colab_type": "code",
        "colab": {}
      },
      "source": [
        ""
      ],
      "execution_count": 0,
      "outputs": []
    },
    {
      "cell_type": "code",
      "metadata": {
        "id": "Rwo560Ag5FYX",
        "colab_type": "code",
        "colab": {}
      },
      "source": [
        ""
      ],
      "execution_count": 0,
      "outputs": []
    }
  ]
}